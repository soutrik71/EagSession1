{
 "cells": [
  {
   "cell_type": "code",
   "execution_count": 1,
   "metadata": {},
   "outputs": [
    {
     "data": {
      "application/javascript": "IPython.notebook.set_autosave_interval(300000)"
     },
     "metadata": {},
     "output_type": "display_data"
    },
    {
     "name": "stdout",
     "output_type": "stream",
     "text": [
      "Autosaving every 300 seconds\n"
     ]
    },
    {
     "name": "stderr",
     "output_type": "stream",
     "text": [
      "UsageError: Line magic function `%autoreload` not found.\n"
     ]
    }
   ],
   "source": [
    "%autosave 300\n",
    "%reload_ext autoreload\n",
    "%autoreload 2\n",
    "%config Completer.use_jedi = False"
   ]
  },
  {
   "cell_type": "code",
   "execution_count": 2,
   "metadata": {},
   "outputs": [
    {
     "data": {
      "text/plain": [
       "'c:\\\\workspace\\\\EagSession1\\\\web_agent'"
      ]
     },
     "execution_count": 2,
     "metadata": {},
     "output_type": "execute_result"
    }
   ],
   "source": [
    "import os\n",
    "\n",
    "os.chdir(\"../\")\n",
    "os.getcwd()"
   ]
  },
  {
   "cell_type": "code",
   "execution_count": 3,
   "metadata": {},
   "outputs": [
    {
     "data": {
      "text/plain": [
       "True"
      ]
     },
     "execution_count": 3,
     "metadata": {},
     "output_type": "execute_result"
    }
   ],
   "source": [
    "from dotenv import load_dotenv, find_dotenv\n",
    "load_dotenv(find_dotenv())"
   ]
  },
  {
   "cell_type": "markdown",
   "metadata": {},
   "source": [
    "#### What are we going to do in this notebook?\n",
    "* We are going to tets finnhub api to get stock prices for a company\n",
    "* we are going to test newsapi to get news for any topic"
   ]
  },
  {
   "cell_type": "code",
   "execution_count": 4,
   "metadata": {},
   "outputs": [],
   "source": [
    "import os\n",
    "import finnhub\n",
    "from typing import Dict, Any, List\n",
    "import requests"
   ]
  },
  {
   "cell_type": "code",
   "execution_count": 5,
   "metadata": {},
   "outputs": [],
   "source": [
    "def get_stock_symbol_alpha_vantage(company_name: str) -> List[Dict[str, str]]:\n",
    "    \"\"\"\n",
    "    Get stock symbol(s) from company name using Alpha Vantage API.\n",
    "\n",
    "    Args:\n",
    "        company_name (str): The name of the company (e.g., 'Apple', 'Microsoft')\n",
    "\n",
    "    Returns:\n",
    "        List[Dict[str, str]]: List of matching companies with their symbols\n",
    "            Each dictionary contains:\n",
    "            - symbol: Stock symbol\n",
    "            - name: Company name\n",
    "            - type: Security type\n",
    "            - region: Region/Exchange\n",
    "            - currency: Trading currency\n",
    "\n",
    "    \"\"\"\n",
    "    # Get API key from environment variable\n",
    "    api_key = os.getenv(\"ALPHA_VANTAGE_API_KEY\")\n",
    "    if not api_key:\n",
    "        raise Exception(\"ALPHA_VANTAGE_API_KEY environment variable not set\")\n",
    "\n",
    "    # Alpha Vantage API endpoint for symbol search\n",
    "    base_url = \"https://www.alphavantage.co/query\"\n",
    "    params = {\"function\": \"SYMBOL_SEARCH\", \"keywords\": company_name, \"apikey\": api_key}\n",
    "\n",
    "    try:\n",
    "        response = requests.get(base_url, params=params)\n",
    "        response.raise_for_status()  # Raise an exception for bad status codes\n",
    "\n",
    "        data = response.json()\n",
    "        matches = data.get(\"bestMatches\", [])\n",
    "\n",
    "        # Format the results\n",
    "        formatted_matches = []\n",
    "        for match in matches:\n",
    "            formatted_matches.append(\n",
    "                {\n",
    "                    \"symbol\": match.get(\"1. symbol\", \"\"),\n",
    "                    \"name\": match.get(\"2. name\", \"\"),\n",
    "                    \"type\": match.get(\"3. type\", \"\"),\n",
    "                    \"region\": match.get(\"4. region\", \"\"),\n",
    "                    \"currency\": match.get(\"8. currency\", \"\"),\n",
    "                }\n",
    "            )\n",
    "\n",
    "        return formatted_matches\n",
    "    except Exception as e:\n",
    "        raise Exception(f\"Error looking up symbol for {company_name}: {str(e)}\")"
   ]
  },
  {
   "cell_type": "code",
   "execution_count": 26,
   "metadata": {},
   "outputs": [],
   "source": [
    "def get_company_financials(company_symbol: str) -> Dict[str, Any]:\n",
    "    \"\"\"\n",
    "    Get basic financials for a company using Finnhub API.\n",
    "\n",
    "    Args:\n",
    "        company_symbol (str): The symbol of the company (e.g., 'AAPL')\n",
    "\n",
    "    Returns:\n",
    "        Dict[str, Any]: Dictionary containing basic financial information\n",
    "\n",
    "    Raises:\n",
    "        Exception: If there's an error fetching the data or if the API key is not set\n",
    "    \"\"\"\n",
    "    # Get API key from environment variable\n",
    "    api_key = os.getenv(\"FINHUB_API_KEY\")\n",
    "    if not api_key:\n",
    "        raise Exception(\"FINHUB_API_KEY environment variable not set\")\n",
    "\n",
    "    # Create a Finnhub client\n",
    "    finnhub_client = finnhub.Client(api_key=api_key)\n",
    "\n",
    "    try:\n",
    "        # Get basic financials\n",
    "        financials = finnhub_client.company_basic_financials(company_symbol, \"all\")\n",
    "        # Convert metrics dictionary to markdown-style string\n",
    "        metrics = financials[\"metric\"]\n",
    "        markdown_metrics = \", \".join([f\"{k}: {v}\" for k, v in metrics.items()])\n",
    "        return markdown_metrics\n",
    "    except Exception as e:\n",
    "        raise Exception(f\"Error fetching financials for {company_symbol}: {str(e)}\")"
   ]
  },
  {
   "cell_type": "code",
   "execution_count": 27,
   "metadata": {},
   "outputs": [],
   "source": [
    "company_name = \"amazon\"\n",
    "company_details = get_stock_symbol_alpha_vantage(company_name)"
   ]
  },
  {
   "cell_type": "code",
   "execution_count": 28,
   "metadata": {},
   "outputs": [
    {
     "name": "stdout",
     "output_type": "stream",
     "text": [
      "Company symbol: AMZN\n"
     ]
    }
   ],
   "source": [
    "company_symbol = company_details[0][\"symbol\"]\n",
    "print(f\"Company symbol: {company_symbol}\")"
   ]
  },
  {
   "cell_type": "code",
   "execution_count": 29,
   "metadata": {},
   "outputs": [
    {
     "name": "stdout",
     "output_type": "stream",
     "text": [
      "10DayAverageTradingVolume: 41.13324, 13WeekPriceReturnDaily: -9.9243, 26WeekPriceReturnDaily: 7.885, 3MonthADReturnStd: 26.857294, 3MonthAverageTradingVolume: 39.1362, 52WeekHigh: 242.52, 52WeekHighDate: 2025-02-04, 52WeekLow: 151.61, 52WeekLowDate: 2024-08-05, 52WeekPriceReturnDaily: 11.9192, 5DayPriceReturnDaily: 3.17, assetTurnoverAnnual: 1.0209, assetTurnoverTTM: 1.1118, beta: 1.2894742, bookValuePerShareAnnual: 26.9961, bookValuePerShareQuarterly: 26.9961, bookValueShareGrowth5Y: 34.08, capexCagr5Y: 37.54, cashFlowPerShareAnnual: 3.1037, cashFlowPerShareQuarterly: 3.1037, cashFlowPerShareTTM: 6.54859, cashPerSharePerShareAnnual: 9.5537, cashPerSharePerShareQuarterly: 9.5537, currentDividendYieldTTM: None, currentEv/freeCashFlowAnnual: 64.5651, currentEv/freeCashFlowTTM: 64.5651, currentRatioAnnual: 1.0637, currentRatioQuarterly: 1.0637, dividendPerShareTTM: None, ebitdPerShareAnnual: 6.4236, ebitdPerShareTTM: 11.2704, ebitdaCagr5Y: 35.46, ebitdaInterimCagr5Y: 29.23, enterpriseValue: 2122771.5, epsAnnual: 5.5264, epsBasicExclExtraItemsAnnual: 5.5264, epsBasicExclExtraItemsTTM: 5.5224, epsExclExtraItemsAnnual: 5.5264, epsExclExtraItemsTTM: 5.5224, epsGrowth3Y: 19.49, epsGrowth5Y: 36.89, epsGrowthQuarterlyYoy: 85.56, epsGrowthTTMYoy: 91.13, epsInclExtraItemsAnnual: 5.5264, epsInclExtraItemsTTM: 5.5224, epsNormalizedAnnual: 5.5264, epsTTM: 5.5224, focfCagr5Y: 8.71, grossMargin5Y: 44.25, grossMarginAnnual: 48.85, grossMarginTTM: 48.85, inventoryTurnoverAnnual: 9.6632, inventoryTurnoverTTM: 9.6632, longTermDebt/equityAnnual: 0.184, longTermDebt/equityQuarterly: 0.184, marketCapitalization: 2125745.5, monthToDatePriceReturnDaily: -5.2525, netIncomeEmployeeAnnual: 0.0381, netIncomeEmployeeTTM: 0.0381, netInterestCoverageAnnual: 8.014, netInterestCoverageTTM: 0.6192, netMarginGrowth5Y: 17.6, netProfitMargin5Y: 5.34, netProfitMarginAnnual: 9.29, netProfitMarginTTM: 9.29, operatingMargin5Y: 6.15, operatingMarginAnnual: 10.75, operatingMarginTTM: 10.75, payoutRatioTTM: None, pbAnnual: 8.0669, pbQuarterly: 8.0669, pcfShareAnnual: 18.3448, pcfShareTTM: 18.3448, peAnnual: 35.8788, peBasicExclExtraTTM: 35.8788, peExclExtraTTM: 35.8788, peInclExtraTTM: 35.8788, peNormalizedAnnual: 35.8788, peTTM: 35.8788, pfcfShareAnnual: 64.6556, pfcfShareTTM: 64.6556, pretaxMargin5Y: 6.1, pretaxMarginAnnual: 10.76, pretaxMarginTTM: 10.76, priceRelativeToS&P50013Week: -6.9368, priceRelativeToS&P50026Week: 6.6043, priceRelativeToS&P5004Week: -0.8323, priceRelativeToS&P50052Week: 2.5266, priceRelativeToS&P500Ytd: -5.3389, psAnnual: 3.3321, psTTM: 3.3321, ptbvAnnual: 8.3171, ptbvQuarterly: 8.0857, quickRatioAnnual: 0.8379, quickRatioQuarterly: 0.8379, receivablesTurnoverAnnual: 13.3941, receivablesTurnoverTTM: 13.3941, revenueEmployeeAnnual: 0.41, revenueEmployeeTTM: 0.41, revenueGrowth3Y: 10.74, revenueGrowth5Y: 17.86, revenueGrowthQuarterlyYoy: 10.49, revenueGrowthTTMYoy: 10.99, revenuePerShareAnnual: 59.5055, revenuePerShareTTM: 59.2403, revenueShareGrowth5Y: 16.42, roa5Y: 5.84, roaRfy: 9.48, roaTTM: 10.33, roe5Y: 16.18, roeRfy: 20.72, roeTTM: 23.74, roi5Y: 10.89, roiAnnual: 16.38, roiTTM: 17.98, tangibleBookValuePerShareAnnual: 26.1841, tangibleBookValuePerShareQuarterly: 18.7025, tbvCagr5Y: 36.74, totalDebt/totalEquityAnnual: 0.2651, totalDebt/totalEquityQuarterly: 0.2651, yearToDatePriceReturnDaily: -8.3231\n"
     ]
    }
   ],
   "source": [
    "markdown_metrics = get_company_financials(company_symbol)\n",
    "print(markdown_metrics)"
   ]
  },
  {
   "cell_type": "code",
   "execution_count": 25,
   "metadata": {},
   "outputs": [],
   "source": [
    "# financials['metric']"
   ]
  },
  {
   "cell_type": "code",
   "execution_count": 23,
   "metadata": {},
   "outputs": [],
   "source": [
    "# Get API key from environment variable\n",
    "\n",
    "from newsapi import NewsApiClient\n",
    "\n",
    "\n",
    "def get_news_headlines(keyword: str, num_articles: int = 3):\n",
    "    \"\"\"\n",
    "    Get news headlines and descriptions for a keyword search\n",
    "\n",
    "    Args:\n",
    "        keyword (str): Search term\n",
    "        num_articles (int): Number of articles to return (default 3)\n",
    "\n",
    "    Returns:\n",
    "        List of tuples containing (title, description) for each article\n",
    "    \"\"\"\n",
    "    api_key = os.getenv(\"NEWS_API_KEY\")\n",
    "    if not api_key:\n",
    "        raise Exception(\"NEWS_API_KEY environment variable not set\")\n",
    "\n",
    "    # Initialize NewsAPI client\n",
    "    newsapi = NewsApiClient(api_key=api_key)\n",
    "\n",
    "    try:\n",
    "        # Get all articles\n",
    "        all_articles = newsapi.get_everything(\n",
    "            q=keyword, language=\"en\", sort_by=\"relevancy\"\n",
    "        )\n",
    "\n",
    "        # Extract first n articles\n",
    "        articles = all_articles[\"articles\"][:num_articles]\n",
    "\n",
    "        # Get title and description pairs\n",
    "        headlines = [(article[\"title\"], article[\"description\"]) for article in articles]\n",
    "\n",
    "        # Convert headlines to markdown format\n",
    "        markdown_headlines = \"\\n\".join(\n",
    "            [f\"**{title}**\\n{description}\\n\\n\" for title, description in headlines]\n",
    "        )\n",
    "\n",
    "        return markdown_headlines\n",
    "\n",
    "    except Exception as e:\n",
    "        raise Exception(f\"Error fetching news for {keyword}: {str(e)}\")"
   ]
  },
  {
   "cell_type": "code",
   "execution_count": 24,
   "metadata": {},
   "outputs": [
    {
     "name": "stdout",
     "output_type": "stream",
     "text": [
      "**FTC Removes Posts Critical of Amazon, Microsoft, and AI Companies**\n",
      "Business-guidance content published during the Biden administration has been removed from the Federal Trade Commission website.\n",
      "\n",
      "\n",
      "**11 Best Early Amazon Spring Sale Deals (2025)**\n",
      "Now’s your chance to save on headphones, tablets, and home gadgets.\n",
      "\n",
      "\n",
      "**Amazon CEO says ‘beautiful’ new Alexa hardware is coming this fall**\n",
      "Amazon is gearing up to launch new hardware to go along with its AI-upgraded Alexa. During an interview with Bloomberg, Amazon CEO Andy Jassy said the company has a “brand new lineup of devices that are coming in the fall that are beautiful.” On Wednesday, Am…\n",
      "\n",
      "\n"
     ]
    }
   ],
   "source": [
    "# Example usage\n",
    "keyword = \"Amazon\"  # Can use company_name from above\n",
    "headlines = get_news_headlines(keyword)\n",
    "print(headlines)"
   ]
  },
  {
   "cell_type": "code",
   "execution_count": null,
   "metadata": {},
   "outputs": [],
   "source": []
  }
 ],
 "metadata": {
  "kernelspec": {
   "display_name": "langchain_latest",
   "language": "python",
   "name": "python3"
  },
  "language_info": {
   "codemirror_mode": {
    "name": "ipython",
    "version": 3
   },
   "file_extension": ".py",
   "mimetype": "text/x-python",
   "name": "python",
   "nbconvert_exporter": "python",
   "pygments_lexer": "ipython3",
   "version": "3.10.14"
  }
 },
 "nbformat": 4,
 "nbformat_minor": 2
}
