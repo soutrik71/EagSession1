{
 "cells": [
  {
   "cell_type": "code",
   "execution_count": 1,
   "metadata": {},
   "outputs": [
    {
     "data": {
      "application/javascript": "IPython.notebook.set_autosave_interval(300000)"
     },
     "metadata": {},
     "output_type": "display_data"
    },
    {
     "name": "stdout",
     "output_type": "stream",
     "text": [
      "Autosaving every 300 seconds\n"
     ]
    }
   ],
   "source": [
    "%autosave 300\n",
    "%reload_ext autoreload\n",
    "%autoreload 2\n",
    "%config Completer.use_jedi = False"
   ]
  },
  {
   "cell_type": "code",
   "execution_count": 2,
   "metadata": {},
   "outputs": [
    {
     "data": {
      "text/plain": [
       "'c:\\\\workspace\\\\EagSession1\\\\web_agent'"
      ]
     },
     "execution_count": 2,
     "metadata": {},
     "output_type": "execute_result"
    }
   ],
   "source": [
    "import os\n",
    "\n",
    "os.chdir(\"../\")\n",
    "os.getcwd()"
   ]
  },
  {
   "cell_type": "code",
   "execution_count": 3,
   "metadata": {},
   "outputs": [
    {
     "name": "stderr",
     "output_type": "stream",
     "text": [
      "c:\\Users\\40104002\\AppData\\Local\\anaconda3\\envs\\ic-engine\\lib\\site-packages\\langchain_core\\_api\\deprecation.py:141: LangChainDeprecationWarning: The class `LLMChain` was deprecated in LangChain 0.1.17 and will be removed in 1.0. Use RunnableSequence, e.g., `prompt | llm` instead.\n",
      "  warn_deprecated(\n"
     ]
    },
    {
     "name": "stdout",
     "output_type": "stream",
     "text": [
      "\n",
      "\n",
      "\u001b[1m> Entering new LLMChain chain...\u001b[0m\n",
      "Prompt after formatting:\n",
      "\u001b[32;1m\u001b[1;3mHuman: \n",
      "You are a helpful math tutor. Please solve the following math problem step by step:\n",
      "\n",
      "Question: What is the area of a circle with radius 5 units?\n",
      "\n",
      "Please show your work and explain each step clearly.\n",
      "\u001b[0m\n",
      "\n",
      "\u001b[1m> Finished chain.\u001b[0m\n",
      "{'math_question': 'What is the area of a circle with radius 5 units?', 'text': \"To find the area of a circle, we use the formula:\\n\\n\\\\[ \\\\text{Area} = \\\\pi r^2 \\\\]\\n\\nwhere \\\\( r \\\\) is the radius of the circle and \\\\( \\\\pi \\\\) is a mathematical constant approximately equal to 3.14159.\\n\\nLet's solve the problem step by step:\\n\\n1. **Identify the radius**: The problem states that the radius \\\\( r \\\\) of the circle is 5 units.\\n\\n2. **Substitute the radius into the formula**: Replace \\\\( r \\\\) in the formula with 5.\\n\\n   \\\\[ \\\\text{Area} = \\\\pi \\\\times (5)^2 \\\\]\\n\\n3. **Calculate \\\\( r^2 \\\\)**: Compute the square of the radius.\\n\\n   \\\\[ 5^2 = 25 \\\\]\\n\\n4. **Substitute \\\\( r^2 \\\\) back into the formula**: Replace \\\\( r^2 \\\\) with 25 in the formula.\\n\\n   \\\\[ \\\\text{Area} = \\\\pi \\\\times 25 \\\\]\\n\\n5. **Multiply by \\\\( \\\\pi \\\\)**: Multiply 25 by \\\\( \\\\pi \\\\) to find the area.\\n\\n   \\\\[ \\\\text{Area} = 25\\\\pi \\\\]\\n\\n6. **Approximate the area**: If you need a numerical approximation, use the value of \\\\( \\\\pi \\\\approx 3.14159 \\\\).\\n\\n   \\\\[ \\\\text{Area} \\\\approx 25 \\\\times 3.14159 \\\\]\\n\\n   \\\\[ \\\\text{Area} \\\\approx 78.53975 \\\\]\\n\\nTherefore, the area of the circle with a radius of 5 units is \\\\( 25\\\\pi \\\\) square units, or approximately 78.54 square units when rounded to two decimal places.\"}\n",
      "\n",
      "\n",
      "\u001b[1m> Entering new LLMChain chain...\u001b[0m\n",
      "Prompt after formatting:\n",
      "\u001b[32;1m\u001b[1;3mHuman: \n",
      "You are a helpful math tutor. Please solve the following math problem step by step:\n",
      "\n",
      "Question: Solve the equation: 2x + 5 = 15\n",
      "\n",
      "Please show your work and explain each step clearly.\n",
      "\u001b[0m\n",
      "\n",
      "\u001b[1m> Finished chain.\u001b[0m\n",
      "{'math_question': 'Solve the equation: 2x + 5 = 15', 'text': 'To solve the equation \\\\(2x + 5 = 15\\\\), we need to find the value of \\\\(x\\\\) that makes the equation true. Here are the steps to solve the equation:\\n\\n### Step 1: Isolate the term with the variable\\nThe equation is \\\\(2x + 5 = 15\\\\). Our goal is to isolate the term with the variable \\\\(x\\\\) on one side of the equation. To do this, we need to eliminate the constant term on the left side, which is \\\\(5\\\\).\\n\\n- Subtract \\\\(5\\\\) from both sides of the equation to remove the \\\\(5\\\\) from the left side:\\n  \\\\[\\n  2x + 5 - 5 = 15 - 5\\n  \\\\]\\n\\n- Simplifying both sides gives:\\n  \\\\[\\n  2x = 10\\n  \\\\]\\n\\n### Step 2: Solve for the variable\\nNow that we have \\\\(2x = 10\\\\), we need to solve for \\\\(x\\\\). The term \\\\(2x\\\\) means \\\\(2\\\\) times \\\\(x\\\\). To isolate \\\\(x\\\\), we need to divide both sides of the equation by \\\\(2\\\\).\\n\\n- Divide both sides by \\\\(2\\\\):\\n  \\\\[\\n  \\\\frac{2x}{2} = \\\\frac{10}{2}\\n  \\\\]\\n\\n- Simplifying both sides gives:\\n  \\\\[\\n  x = 5\\n  \\\\]\\n\\n### Conclusion\\nThe solution to the equation \\\\(2x + 5 = 15\\\\) is \\\\(x = 5\\\\). This means that when \\\\(x\\\\) is \\\\(5\\\\), the equation holds true. You can verify this by substituting \\\\(x = 5\\\\) back into the original equation:\\n\\n- Substitute \\\\(x = 5\\\\) into \\\\(2x + 5\\\\):\\n  \\\\[\\n  2(5) + 5 = 10 + 5 = 15\\n  \\\\]\\n\\nSince both sides of the equation are equal, our solution \\\\(x = 5\\\\) is correct.'}\n"
     ]
    }
   ],
   "source": [
    "import os\n",
    "from langchain.prompts import ChatPromptTemplate\n",
    "from langchain.chains import LLMChain\n",
    "from dotenv import load_dotenv, find_dotenv\n",
    "\n",
    "# Load environment variables\n",
    "load_dotenv(find_dotenv())\n",
    "\n",
    "# Import required modules\n",
    "from langchain_openai import AzureChatOpenAI\n",
    "\n",
    "# Load environment variables\n",
    "load_dotenv()\n",
    "\n",
    "# Initialize Azure OpenAI\n",
    "llm = AzureChatOpenAI(\n",
    "    azure_deployment=os.getenv(\"AZURE_DEPLOYMENT_NAME\"),\n",
    "    azure_endpoint=os.getenv(\"AZURE_OPENAI_ENDPOINT\"),\n",
    "    api_key=os.getenv(\"AZURE_OPENAI_API_KEY\"),\n",
    "    openai_api_version=os.getenv(\"OPENAI_API_VERSION\"),\n",
    "    temperature=0\n",
    ")\n",
    "\n",
    "\n",
    "# Create a prompt template for math questions.\n",
    "math_prompt = ChatPromptTemplate.from_template(\n",
    "    \"\"\"\n",
    "You are a helpful math tutor. Please solve the following math problem step by step:\n",
    "\n",
    "Question: {math_question}\n",
    "\n",
    "Please show your work and explain each step clearly.\n",
    "\"\"\"\n",
    ")\n",
    "\n",
    "# Create the chain.\n",
    "math_chain = LLMChain(llm=llm, prompt=math_prompt, verbose=True)\n",
    "\n",
    "# Example usage.\n",
    "question = \"What is the area of a circle with radius 5 units?\"\n",
    "response = math_chain.invoke({\"math_question\": question})\n",
    "print(response)\n",
    "\n",
    "# Try another example.\n",
    "question2 = \"Solve the equation: 2x + 5 = 15\"\n",
    "response2 = math_chain.invoke({\"math_question\": question2})\n",
    "print(response2)"
   ]
  },
  {
   "cell_type": "code",
   "execution_count": 23,
   "metadata": {},
   "outputs": [],
   "source": [
    "import os\n",
    "import math\n",
    "from pydantic import BaseModel, Field\n",
    "from langchain.prompts import ChatPromptTemplate\n",
    "from langchain.tools import StructuredTool\n",
    "import os\n",
    "import math\n",
    "from dotenv import load_dotenv, find_dotenv\n",
    "from pydantic import BaseModel, Field\n",
    "from langchain.tools import StructuredTool"
   ]
  },
  {
   "cell_type": "code",
   "execution_count": 26,
   "metadata": {},
   "outputs": [],
   "source": [
    "\n",
    "\n",
    "# Define Pydantic models for input validation\n",
    "class CircleAreaInput(BaseModel):\n",
    "    \"\"\"Input schema for circle area calculation.\"\"\"\n",
    "    radius: float = Field(..., description=\"The radius of the circle.\")\n",
    "\n",
    "class LinearEquationInput(BaseModel):\n",
    "    \"\"\"Input schema for linear equation solving.\"\"\"\n",
    "    equation: str = Field(..., description=\"A linear equation of the form 'ax + b = c'.\")\n",
    "\n",
    "# Update function signatures to match the field names of the Pydantic models.\n",
    "def calculate_circle_area(radius: float) -> str:\n",
    "    \"\"\"Calculate the area of a circle given its radius.\n",
    "\n",
    "    Args:\n",
    "        radius: The radius of the circle in units\n",
    "    Returns:\n",
    "        The area of the circle in square units\n",
    "    \"\"\"\n",
    "    area = math.pi * radius ** 2\n",
    "    return f\"The area of a circle with radius {radius} is {area:.2f} square units.\"\n",
    "\n",
    "def solve_linear_equation(equation: str) -> str:\n",
    "    \"\"\"\n",
    "    Solve a simple linear equation of the form 'ax + b = c'.\n",
    "    This function assumes the equation is properly formatted.\n",
    "\n",
    "    Args:\n",
    "        equation: A linear equation of the form 'ax + b = c'\n",
    "    Returns:\n",
    "        The solution for x\n",
    "    \"\"\"\n",
    "    try:\n",
    "        eq = equation.replace(\" \", \"\")\n",
    "        x_index = eq.index(\"x\")\n",
    "        a = float(eq[:x_index])\n",
    "        remainder = eq[x_index + 1:]\n",
    "        if remainder[0] in \"+-\":\n",
    "            sign = 1 if remainder[0] == \"+\" else -1\n",
    "            remainder = remainder[1:]\n",
    "        else:\n",
    "            sign = 1\n",
    "        b_str, c_str = remainder.split(\"=\")\n",
    "        b = sign * float(b_str)\n",
    "        c = float(c_str)\n",
    "        x = (c - b) / a\n",
    "        return f\"The solution for the equation {equation} is x = {x}.\"\n",
    "    except Exception as e:\n",
    "        return f\"Error parsing the equation '{equation}': {str(e)}\"\n",
    "\n",
    "# Wrap the functions as StructuredTools using the Pydantic input schemas.\n",
    "circle_area_tool = StructuredTool.from_function(\n",
    "    func=calculate_circle_area,\n",
    "    input_schema=CircleAreaInput,\n",
    "    name=\"CalculateCircleArea\",\n",
    "    description=\"Calculate the area of a circle given its radius. Input: a JSON with a 'radius' key.\"\n",
    ")\n",
    "\n",
    "linear_equation_tool = StructuredTool.from_function(\n",
    "    func=solve_linear_equation,\n",
    "    input_schema=LinearEquationInput,\n",
    "    name=\"SolveLinearEquation\",\n",
    "    description=\"Solve a linear equation of the form 'ax + b = c'. Input: a JSON with an 'equation' key.\"\n",
    ")\n",
    "\n",
    "tools = [circle_area_tool, linear_equation_tool]"
   ]
  },
  {
   "cell_type": "code",
   "execution_count": 27,
   "metadata": {},
   "outputs": [
    {
     "name": "stdout",
     "output_type": "stream",
     "text": [
      "\n",
      "Result 1: content='' additional_kwargs={'tool_calls': [{'id': 'call_tn0t46Kkx1H3mNdK9f5eMo8v', 'function': {'arguments': '{\"radius\":5}', 'name': 'CalculateCircleArea'}, 'type': 'function'}]} response_metadata={'token_usage': {'completion_tokens': 16, 'prompt_tokens': 183, 'total_tokens': 199, 'completion_tokens_details': {'accepted_prediction_tokens': 0, 'audio_tokens': 0, 'reasoning_tokens': 0, 'rejected_prediction_tokens': 0}, 'prompt_tokens_details': {'audio_tokens': 0, 'cached_tokens': 0}}, 'model_name': 'gpt-4o-2024-08-06', 'system_fingerprint': 'fp_ded0d14823', 'prompt_filter_results': [{'prompt_index': 0, 'content_filter_results': {'hate': {'filtered': False, 'severity': 'safe'}, 'self_harm': {'filtered': False, 'severity': 'safe'}, 'sexual': {'filtered': False, 'severity': 'safe'}, 'violence': {'filtered': False, 'severity': 'safe'}}}], 'finish_reason': 'tool_calls', 'logprobs': None, 'content_filter_results': {}} id='run-8c5d0999-dc57-4a69-be1a-c59fb4ffe09b-0' tool_calls=[{'name': 'CalculateCircleArea', 'args': {'radius': 5}, 'id': 'call_tn0t46Kkx1H3mNdK9f5eMo8v', 'type': 'tool_call'}] usage_metadata={'input_tokens': 183, 'output_tokens': 16, 'total_tokens': 199}\n",
      "\n",
      "Result 2: content='' additional_kwargs={'tool_calls': [{'id': 'call_7FmZE1XSHngOtf9ZpTrFfpEv', 'function': {'arguments': '{\"equation\":\"2x + 5 = 15\"}', 'name': 'SolveLinearEquation'}, 'type': 'function'}]} response_metadata={'token_usage': {'completion_tokens': 25, 'prompt_tokens': 184, 'total_tokens': 209, 'completion_tokens_details': {'accepted_prediction_tokens': 0, 'audio_tokens': 0, 'reasoning_tokens': 0, 'rejected_prediction_tokens': 0}, 'prompt_tokens_details': {'audio_tokens': 0, 'cached_tokens': 0}}, 'model_name': 'gpt-4o-2024-08-06', 'system_fingerprint': 'fp_ded0d14823', 'prompt_filter_results': [{'prompt_index': 0, 'content_filter_results': {'hate': {'filtered': False, 'severity': 'safe'}, 'self_harm': {'filtered': False, 'severity': 'safe'}, 'sexual': {'filtered': False, 'severity': 'safe'}, 'violence': {'filtered': False, 'severity': 'safe'}}}], 'finish_reason': 'tool_calls', 'logprobs': None, 'content_filter_results': {}} id='run-c9fa2a80-1ec6-4f24-9715-9bd5b5acbd64-0' tool_calls=[{'name': 'SolveLinearEquation', 'args': {'equation': '2x + 5 = 15'}, 'id': 'call_7FmZE1XSHngOtf9ZpTrFfpEv', 'type': 'tool_call'}] usage_metadata={'input_tokens': 184, 'output_tokens': 25, 'total_tokens': 209}\n"
     ]
    }
   ],
   "source": [
    "# Bind tools to the model\n",
    "llm_with_tools = llm.bind_tools(tools)\n",
    "\n",
    "# Create new prompt template for tool calling\n",
    "prompt = \"\"\"You are a helpful AI assistant that uses available tools/functions to solve math problems.\n",
    "When given a math problem, analyze it carefully and use the appropriate function to solve it.\n",
    "For circle area calculations, use the calculate_circle_area tool.\n",
    "For linear equations, use the solve_linear_equation tool.\n",
    "Always use the tools instead of doing calculations yourself.\n",
    "\n",
    "Question: {input}\n",
    "\"\"\"\n",
    "\n",
    "# Test with the same queries\n",
    "query1 = \"What is the area of a circle with radius 5 units?\"\n",
    "result1 = llm_with_tools.invoke(prompt.format(input=query1))\n",
    "print(\"\\nResult 1:\", result1)\n",
    "\n",
    "query2 = \"Solve the equation: 2x + 5 = 15\"\n",
    "result2 = llm_with_tools.invoke(prompt.format(input=query2))\n",
    "print(\"\\nResult 2:\", result2)"
   ]
  },
  {
   "cell_type": "code",
   "execution_count": 33,
   "metadata": {},
   "outputs": [
    {
     "data": {
      "text/plain": [
       "{'name': 'CalculateCircleArea',\n",
       " 'args': {'radius': 5},\n",
       " 'id': 'call_tn0t46Kkx1H3mNdK9f5eMo8v',\n",
       " 'type': 'tool_call'}"
      ]
     },
     "execution_count": 33,
     "metadata": {},
     "output_type": "execute_result"
    }
   ],
   "source": [
    "result1.tool_calls[0]"
   ]
  },
  {
   "cell_type": "code",
   "execution_count": 34,
   "metadata": {},
   "outputs": [
    {
     "name": "stdout",
     "output_type": "stream",
     "text": [
      "\n",
      "Executing tool calls for Result 1:\n",
      "The area of a circle with radius 5.0 is 78.54 square units.\n",
      "\n",
      "Executing tool calls for Result 2:\n",
      "The solution for the equation 2x + 5 = 15 is x = 5.0.\n"
     ]
    }
   ],
   "source": [
    "def execute_tool_calls(tools_dict: dict, model_output) -> str:\n",
    "    \"\"\"\n",
    "    Execute tool calls based on the model's output.\n",
    "\n",
    "    Args:\n",
    "        tools_dict: Dictionary mapping tool names to tool objects\n",
    "        model_output: Output from the LLM model containing tool calls\n",
    "\n",
    "    Returns:\n",
    "        str: Result of executing the tool calls\n",
    "    \"\"\"\n",
    "    if not hasattr(model_output, \"tool_calls\") or not model_output.tool_calls:\n",
    "        return \"No tool calls found in model output\"\n",
    "\n",
    "    results = []\n",
    "    for tool_call in model_output.tool_calls:\n",
    "        tool_name = tool_call['name']\n",
    "        if tool_name not in tools_dict:\n",
    "            results.append(f\"Tool {tool_name} not found in available tools\")\n",
    "            continue\n",
    "\n",
    "        tool = tools_dict[tool_name]\n",
    "        try:\n",
    "            result = tool.invoke(tool_call['args'])\n",
    "            results.append(result)\n",
    "        except Exception as e:\n",
    "            results.append(f\"Error executing {tool_name}: {str(e)}\")\n",
    "\n",
    "    return \"\\n\".join(results)\n",
    "\n",
    "\n",
    "# Create a dictionary mapping tool names to tool objects\n",
    "tools_dict = {\n",
    "    \"CalculateCircleArea\": circle_area_tool,\n",
    "    \"SolveLinearEquation\": linear_equation_tool,\n",
    "}\n",
    "\n",
    "# Test with the previous results\n",
    "print(\"\\nExecuting tool calls for Result 1:\")\n",
    "print(execute_tool_calls(tools_dict, result1))\n",
    "\n",
    "print(\"\\nExecuting tool calls for Result 2:\")\n",
    "print(execute_tool_calls(tools_dict, result2))"
   ]
  },
  {
   "cell_type": "code",
   "execution_count": null,
   "metadata": {},
   "outputs": [],
   "source": []
  }
 ],
 "metadata": {
  "kernelspec": {
   "display_name": "ic-engine",
   "language": "python",
   "name": "python3"
  },
  "language_info": {
   "codemirror_mode": {
    "name": "ipython",
    "version": 3
   },
   "file_extension": ".py",
   "mimetype": "text/x-python",
   "name": "python",
   "nbconvert_exporter": "python",
   "pygments_lexer": "ipython3",
   "version": "3.10.14"
  }
 },
 "nbformat": 4,
 "nbformat_minor": 2
}
