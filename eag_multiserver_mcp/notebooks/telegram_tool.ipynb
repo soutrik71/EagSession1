{
 "cells": [
  {
   "cell_type": "code",
   "execution_count": 1,
   "metadata": {},
   "outputs": [
    {
     "data": {
      "application/javascript": "IPython.notebook.set_autosave_interval(300000)"
     },
     "metadata": {},
     "output_type": "display_data"
    },
    {
     "name": "stdout",
     "output_type": "stream",
     "text": [
      "Autosaving every 300 seconds\n"
     ]
    }
   ],
   "source": [
    "%autosave 300\n",
    "%load_ext autoreload\n",
    "%autoreload 2\n",
    "%reload_ext autoreload\n",
    "%config Completer.use_jedi = False"
   ]
  },
  {
   "cell_type": "code",
   "execution_count": 2,
   "metadata": {},
   "outputs": [
    {
     "name": "stdout",
     "output_type": "stream",
     "text": [
      "c:\\workspace\\EagSession1\\eag_multiserver_mcp\n"
     ]
    }
   ],
   "source": [
    "import os\n",
    "\n",
    "os.chdir(\"../\")\n",
    "print(os.getcwd())"
   ]
  },
  {
   "cell_type": "code",
   "execution_count": 3,
   "metadata": {},
   "outputs": [],
   "source": [
    "from dotenv import load_dotenv\n",
    "\n",
    "load_dotenv()\n",
    "\n",
    "telegram_token = os.getenv(\"TELEGRAM_TOKEN\")"
   ]
  },
  {
   "cell_type": "code",
   "execution_count": 4,
   "metadata": {},
   "outputs": [],
   "source": [
    "if telegram_token is None:\n",
    "    raise ValueError(\"TELEGRAM_TOKEN is not set\")"
   ]
  },
  {
   "cell_type": "code",
   "execution_count": 5,
   "metadata": {},
   "outputs": [],
   "source": [
    "import certifi\n",
    "os.environ[\"SSL_CERT_FILE\"] = certifi.where()"
   ]
  },
  {
   "cell_type": "code",
   "execution_count": 6,
   "metadata": {},
   "outputs": [],
   "source": [
    "import os\n",
    "from telegram import Update\n",
    "from telegram.ext import (\n",
    "    ApplicationBuilder,\n",
    "    CommandHandler,\n",
    "    MessageHandler,\n",
    "    filters,\n",
    "    ContextTypes,\n",
    ")\n",
    "\n",
    "# Command handlers\n",
    "async def start(update: Update, context: ContextTypes.DEFAULT_TYPE):\n",
    "    await update.message.reply_text(\"Hi! I'm your bot. Send any message and I'll echo it.\")\n",
    "\n",
    "async def send(update: Update, context: ContextTypes.DEFAULT_TYPE):\n",
    "    message = \" \".join(context.args)\n",
    "    await update.message.reply_text(f\"Sending: {message}\")\n",
    "\n",
    "async def echo(update: Update, context: ContextTypes.DEFAULT_TYPE):\n",
    "    user_text = update.message.text\n",
    "    user_id = update.message.from_user.id\n",
    "    username = update.message.from_user.username\n",
    "    print(f\"[Message] From {username} ({user_id}): {user_text}\")  # Logs the message\n",
    "    await update.message.reply_text(f\"You said: {user_text}\")"
   ]
  },
  {
   "cell_type": "code",
   "execution_count": 7,
   "metadata": {},
   "outputs": [],
   "source": [
    "# Build the application\n",
    "app = ApplicationBuilder().token(telegram_token).build()\n",
    "app.add_handler(CommandHandler(\"start\", start))\n",
    "app.add_handler(CommandHandler(\"send\", send))\n",
    "app.add_handler(MessageHandler(filters.TEXT & ~filters.COMMAND, echo))"
   ]
  },
  {
   "cell_type": "code",
   "execution_count": 8,
   "metadata": {},
   "outputs": [
    {
     "name": "stdout",
     "output_type": "stream",
     "text": [
      "Bot is running in Jupyter...\n"
     ]
    }
   ],
   "source": [
    "# Start polling in the background\n",
    "await app.initialize()\n",
    "await app.start()\n",
    "await app.updater.start_polling()\n",
    "print(\"Bot is running in Jupyter...\")"
   ]
  },
  {
   "cell_type": "code",
   "execution_count": 9,
   "metadata": {},
   "outputs": [
    {
     "name": "stdout",
     "output_type": "stream",
     "text": [
      "Bot stopped.\n"
     ]
    }
   ],
   "source": [
    "await app.updater.stop()\n",
    "await app.stop()\n",
    "await app.shutdown()\n",
    "print(\"Bot stopped.\")"
   ]
  },
  {
   "cell_type": "markdown",
   "metadata": {},
   "source": [
    "Telegram-Scrapper"
   ]
  },
  {
   "cell_type": "code",
   "execution_count": 25,
   "metadata": {},
   "outputs": [],
   "source": [
    "# Client parameters\n",
    "API_ID   = 21387278\n",
    "API_HASH = 'a0874c25221dffc664d5e0d55733fa63'\n",
    "PHONE_NUM    = '+918101288487'\n",
    "\n",
    "# Chat to inspect\n",
    "chat_link = \"https://t.me/soutrik_bot\""
   ]
  },
  {
   "cell_type": "code",
   "execution_count": 21,
   "metadata": {},
   "outputs": [],
   "source": [
    "from telethon import TelegramClient\n",
    "from telethon.tl.functions.channels import GetParticipantsRequest\n",
    "from telethon.tl.types import ChannelParticipantsSearch\n",
    "from collections import OrderedDict\n",
    "from os import path, stat, remove, makedirs\n",
    "import json\n",
    "import os\n",
    "from dotenv import load_dotenv\n",
    "\n",
    "# Load environment variables\n",
    "load_dotenv()\n",
    "\n",
    "# # Client parameters\n",
    "# API_ID = os.getenv(\"TELEGRAM_API_ID\")\n",
    "# API_HASH = os.getenv(\"TELEGRAM_API_HASH\")\n",
    "# PHONE_NUM = os.getenv(\"TELEGRAM_PHONE\")\n",
    "\n",
    "if not all([API_ID, API_HASH, PHONE_NUM]):\n",
    "    raise ValueError(\"TELEGRAM_API_ID, TELEGRAM_API_HASH, and TELEGRAM_PHONE must be set in .env file\")\n",
    "\n",
    "def tlg_connect(api_id, api_hash, phone_number):\n",
    "    \"\"\"Connect and Log-in/Sign-in to Telegram API. Request Sign-in code for first execution\"\"\"\n",
    "    print('Trying to connect to Telegram...')\n",
    "    client = TelegramClient(\"Session\", api_id, api_hash)\n",
    "    if not client.start():\n",
    "        print('Could not connect to Telegram servers.')\n",
    "        return None\n",
    "    else:\n",
    "        if not client.is_user_authorized():\n",
    "            print('Session file not found. This is the first run, sending code request...')\n",
    "            client.sign_in(phone_number)\n",
    "            self_user = None\n",
    "            while self_user is None:\n",
    "                code = input('Enter the code you just received: ')\n",
    "                try:\n",
    "                    self_user = client.sign_in(code=code)\n",
    "                except Exception as e:\n",
    "                    if \"password\" in str(e).lower():\n",
    "                        pw = input('Two step verification is enabled. Please enter your password: ')\n",
    "                        self_user = client.sign_in(password=pw)\n",
    "                    else:\n",
    "                        raise e\n",
    "                    if self_user is None:\n",
    "                        return None\n",
    "    print('Sign in success.')\n",
    "    print()\n",
    "    return client\n",
    "\n",
    "def tlg_get_basic_info(client, chat):\n",
    "    \"\"\"Get basic information (id, title, name, num_users, num_messages) from a group/channel/chat\"\"\"\n",
    "    chat_entity = client.get_entity(chat)\n",
    "    num_members_offset = client(GetParticipantsRequest(channel=chat_entity,\n",
    "        filter=ChannelParticipantsSearch(''), offset=0, limit=0, hash=0)).count\n",
    "    num_members = client(GetParticipantsRequest(channel=chat_entity,\n",
    "        filter=ChannelParticipantsSearch(''), offset=num_members_offset, limit=0, hash=0)).count\n",
    "    msgs = client.get_messages(chat_entity, limit=1)\n",
    "    basic_info = OrderedDict([\n",
    "        (\"id\", msgs[0].chat_id),\n",
    "        (\"title\", msgs[0].chat.title),\n",
    "        (\"username\", msgs[0].chat.username),\n",
    "        (\"num_members\", num_members),\n",
    "        (\"num_messages\", msgs.total),\n",
    "        (\"supergroup\", msgs[0].chat.megagroup)\n",
    "    ])\n",
    "    return basic_info\n",
    "\n",
    "def tlg_get_all_members(client, chat):\n",
    "    \"\"\"Get all members information from a group/channel/chat\"\"\"\n",
    "    chat_entity = client.get_entity(chat)\n",
    "    i = 0\n",
    "    members = []\n",
    "    users = []\n",
    "    num_members = client(GetParticipantsRequest(channel=chat_entity,\n",
    "        filter=ChannelParticipantsSearch(''), offset=0, limit=0, hash=0)).count\n",
    "    while True:\n",
    "        participants_i = client(GetParticipantsRequest(channel=chat_entity,\n",
    "            filter=ChannelParticipantsSearch(''), offset=i, limit=num_members, hash=0))\n",
    "        if not participants_i.users:\n",
    "            break\n",
    "        users.extend(participants_i.users)\n",
    "        i = i + len(participants_i.users)\n",
    "    \n",
    "    for usr in users:\n",
    "        usr_last_connection = \"\"\n",
    "        if hasattr(usr.status, \"was_online\"):\n",
    "            usr_last_connection = \"{}/{}/{} - {}:{}:{}\".format(\n",
    "                usr.status.was_online.day,\n",
    "                usr.status.was_online.month,\n",
    "                usr.status.was_online.year,\n",
    "                usr.status.was_online.hour,\n",
    "                usr.status.was_online.minute,\n",
    "                usr.status.was_online.second\n",
    "            )\n",
    "        else:\n",
    "            usr_last_connection = \"The user does not share this information\"\n",
    "        \n",
    "        usr_data = OrderedDict([\n",
    "            (\"id\", usr.id),\n",
    "            (\"username\", usr.username),\n",
    "            (\"first_name\", usr.first_name),\n",
    "            (\"last_name\", usr.last_name),\n",
    "            (\"last_connection\", usr_last_connection)\n",
    "        ])\n",
    "        members.append(usr_data)\n",
    "    return members\n",
    "\n",
    "def tlg_get_messages(client, chat, num_msg):\n",
    "    \"\"\"Get messages data from a chat\"\"\"\n",
    "    messages = []\n",
    "    chat_entity = client.get_entity(chat)\n",
    "    msgs = client.get_messages(chat_entity, limit=num_msg)\n",
    "    \n",
    "    for msg in reversed(msgs.data):\n",
    "        msg_sender = msg.sender.first_name\n",
    "        if msg.sender.last_name:\n",
    "            msg_sender = \"{} {}\".format(msg_sender, msg.sender.last_name)\n",
    "        if msg.sender.username:\n",
    "            msg_sender = \"{} ({})\".format(msg_sender, msg.sender.username)\n",
    "        \n",
    "        msg_sent_date = \"{}/{}/{}\".format(msg.date.day, msg.date.month, msg.date.year)\n",
    "        msg_sent_time = \"{}:{}:{}\".format(msg.date.hour, msg.date.minute, msg.date.second)\n",
    "        \n",
    "        msg_data = OrderedDict([\n",
    "            (\"id\", msg.id),\n",
    "            (\"text\", msg.message),\n",
    "            (\"sent_time\", msg_sent_time),\n",
    "            (\"sent_date\", msg_sent_date),\n",
    "            (\"sender_user\", msg_sender),\n",
    "            (\"sender_user_id\", msg.sender.id),\n",
    "            (\"reply_to\", msg.reply_to_msg_id)\n",
    "        ])\n",
    "        messages.append(msg_data)\n",
    "    return messages\n",
    "\n",
    "def tlg_get_all_messages(client, chat):\n",
    "    \"\"\"Get all messages data from a chat\"\"\"\n",
    "    messages = []\n",
    "    chat_entity = client.get_entity(chat)\n",
    "    num_msg = client.get_messages(chat_entity, limit=1).total\n",
    "    msgs = client.get_messages(chat_entity, limit=num_msg)\n",
    "    \n",
    "    for msg in reversed(msgs):\n",
    "        msg_sender = msg.sender.first_name\n",
    "        if msg.sender.last_name:\n",
    "            msg_sender = \"{} {}\".format(msg_sender, msg.sender.last_name)\n",
    "        if msg.sender.username:\n",
    "            msg_sender = \"{} (@{})\".format(msg_sender, msg.sender.username)\n",
    "        \n",
    "        msg_sent_date = \"{}/{}/{}\".format(msg.date.day, msg.date.month, msg.date.year)\n",
    "        msg_sent_time = \"{}:{}:{}\".format(msg.date.hour, msg.date.minute, msg.date.second)\n",
    "        \n",
    "        msg_data = OrderedDict([\n",
    "            (\"id\", msg.id),\n",
    "            (\"text\", msg.message),\n",
    "            (\"sent_time\", msg_sent_time),\n",
    "            (\"sent_date\", msg_sent_date),\n",
    "            (\"sender_user\", msg_sender),\n",
    "            (\"sender_user_id\", msg.sender.id),\n",
    "            (\"reply_to\", msg.reply_to_msg_id)\n",
    "        ])\n",
    "        messages.append(msg_data)\n",
    "    return messages\n",
    "\n",
    "def json_write(file_path, data):\n",
    "    \"\"\"Write data to a JSON file\"\"\"\n",
    "    os.makedirs(os.path.dirname(file_path), exist_ok=True)\n",
    "    with open(file_path, 'w', encoding='utf-8') as f:\n",
    "        json.dump(data, f, ensure_ascii=False, indent=4)\n",
    "\n",
    "def json_write_list(file_path, data_list):\n",
    "    \"\"\"Write a list of data to a JSON file\"\"\"\n",
    "    os.makedirs(os.path.dirname(file_path), exist_ok=True)\n",
    "    with open(file_path, 'w', encoding='utf-8') as f:\n",
    "        json.dump(data_list, f, ensure_ascii=False, indent=4)"
   ]
  },
  {
   "cell_type": "code",
   "execution_count": 23,
   "metadata": {},
   "outputs": [
    {
     "name": "stdout",
     "output_type": "stream",
     "text": [
      "Trying to connect to Telegram...\n",
      "Sign in success.\n",
      "\n"
     ]
    },
    {
     "name": "stderr",
     "output_type": "stream",
     "text": [
      "C:\\Users\\40104002\\AppData\\Local\\Temp\\ipykernel_28436\\3611719928.py:25: RuntimeWarning: coroutine 'AuthMethods._start' was never awaited\n",
      "  if not client.start():\n",
      "RuntimeWarning: Enable tracemalloc to get the object allocation traceback\n",
      "C:\\Users\\40104002\\AppData\\Local\\Temp\\ipykernel_28436\\3611719928.py:29: RuntimeWarning: coroutine 'UserMethods.is_user_authorized' was never awaited\n",
      "  if not client.is_user_authorized():\n",
      "RuntimeWarning: Enable tracemalloc to get the object allocation traceback\n"
     ]
    },
    {
     "data": {
      "text/plain": [
       "<telethon.client.telegramclient.TelegramClient at 0x27a60a1c3d0>"
      ]
     },
     "execution_count": 23,
     "metadata": {},
     "output_type": "execute_result"
    }
   ],
   "source": [
    "tlg_connect(API_ID, API_HASH, PHONE_NUM)"
   ]
  },
  {
   "cell_type": "code",
   "execution_count": 27,
   "metadata": {},
   "outputs": [
    {
     "ename": "AttributeError",
     "evalue": "'coroutine' object has no attribute 'count'",
     "output_type": "error",
     "traceback": [
      "\u001b[31m---------------------------------------------------------------------------\u001b[39m",
      "\u001b[31mAttributeError\u001b[39m                            Traceback (most recent call last)",
      "\u001b[36mCell\u001b[39m\u001b[36m \u001b[39m\u001b[32mIn[27]\u001b[39m\u001b[32m, line 1\u001b[39m\n\u001b[32m----> \u001b[39m\u001b[32m1\u001b[39m \u001b[43mtlg_get_basic_info\u001b[49m\u001b[43m(\u001b[49m\u001b[43mclient\u001b[49m\u001b[43m,\u001b[49m\u001b[43m \u001b[49m\u001b[43mchat_link\u001b[49m\u001b[43m)\u001b[49m\n",
      "\u001b[36mCell\u001b[39m\u001b[36m \u001b[39m\u001b[32mIn[21]\u001b[39m\u001b[32m, line 53\u001b[39m, in \u001b[36mtlg_get_basic_info\u001b[39m\u001b[34m(client, chat)\u001b[39m\n\u001b[32m     50\u001b[39m \u001b[38;5;250m\u001b[39m\u001b[33;03m\"\"\"Get basic information (id, title, name, num_users, num_messages) from a group/channel/chat\"\"\"\u001b[39;00m\n\u001b[32m     51\u001b[39m chat_entity = client.get_entity(chat)\n\u001b[32m     52\u001b[39m num_members_offset = \u001b[43mclient\u001b[49m\u001b[43m(\u001b[49m\u001b[43mGetParticipantsRequest\u001b[49m\u001b[43m(\u001b[49m\u001b[43mchannel\u001b[49m\u001b[43m=\u001b[49m\u001b[43mchat_entity\u001b[49m\u001b[43m,\u001b[49m\n\u001b[32m---> \u001b[39m\u001b[32m53\u001b[39m \u001b[43m    \u001b[49m\u001b[38;5;28;43mfilter\u001b[39;49m\u001b[43m=\u001b[49m\u001b[43mChannelParticipantsSearch\u001b[49m\u001b[43m(\u001b[49m\u001b[33;43m'\u001b[39;49m\u001b[33;43m'\u001b[39;49m\u001b[43m)\u001b[49m\u001b[43m,\u001b[49m\u001b[43m \u001b[49m\u001b[43moffset\u001b[49m\u001b[43m=\u001b[49m\u001b[32;43m0\u001b[39;49m\u001b[43m,\u001b[49m\u001b[43m \u001b[49m\u001b[43mlimit\u001b[49m\u001b[43m=\u001b[49m\u001b[32;43m0\u001b[39;49m\u001b[43m,\u001b[49m\u001b[43m \u001b[49m\u001b[38;5;28;43mhash\u001b[39;49m\u001b[43m=\u001b[49m\u001b[32;43m0\u001b[39;49m\u001b[43m)\u001b[49m\u001b[43m)\u001b[49m\u001b[43m.\u001b[49m\u001b[43mcount\u001b[49m\n\u001b[32m     54\u001b[39m num_members = client(GetParticipantsRequest(channel=chat_entity,\n\u001b[32m     55\u001b[39m     \u001b[38;5;28mfilter\u001b[39m=ChannelParticipantsSearch(\u001b[33m'\u001b[39m\u001b[33m'\u001b[39m), offset=num_members_offset, limit=\u001b[32m0\u001b[39m, \u001b[38;5;28mhash\u001b[39m=\u001b[32m0\u001b[39m)).count\n\u001b[32m     56\u001b[39m msgs = client.get_messages(chat_entity, limit=\u001b[32m1\u001b[39m)\n",
      "\u001b[31mAttributeError\u001b[39m: 'coroutine' object has no attribute 'count'"
     ]
    }
   ],
   "source": [
    "tlg_get_basic_info(client, chat_link)"
   ]
  },
  {
   "cell_type": "code",
   "execution_count": null,
   "metadata": {},
   "outputs": [],
   "source": [
    "\n",
    "def scrape_chat(chat_link):\n",
    "    \"\"\"Main function to scrape a chat\"\"\"\n",
    "    print()\n",
    "    # Create the client and connect\n",
    "    client = tlg_connect(API_ID, API_HASH, PHONE_NUM)\n",
    "    if client is None:\n",
    "        return\n",
    "\n",
    "    try:\n",
    "        # Get chat basic info\n",
    "        print(\"Getting chat basic info...\")\n",
    "        chat_info = tlg_get_basic_info(client, chat_link)\n",
    "\n",
    "        # Create output directory and file names\n",
    "        if chat_info[\"username\"]:\n",
    "            files_name = chat_info[\"username\"]\n",
    "        else:\n",
    "            files_name = str(chat_info[\"id\"])\n",
    "        \n",
    "        output_dir = f\"./output/{files_name}\"\n",
    "        fjson_chat = f\"{output_dir}/chat.json\"\n",
    "        fjson_users = f\"{output_dir}/users.json\"\n",
    "        fjson_messages = f\"{output_dir}/messages.json\"\n",
    "\n",
    "        # Save chat basic info\n",
    "        if path.exists(fjson_chat):\n",
    "            remove(fjson_chat)\n",
    "        json_write(fjson_chat, chat_info)\n",
    "\n",
    "        # Get and save users data\n",
    "        print(\"Getting chat members (users) info...\")\n",
    "        members = tlg_get_all_members(client, chat_link)\n",
    "        if path.exists(fjson_users):\n",
    "            remove(fjson_users)\n",
    "        json_write_list(fjson_users, members)\n",
    "\n",
    "        # Get and save messages data\n",
    "        print(\"Getting chat messages info...\")\n",
    "        messages = tlg_get_all_messages(client, chat_link)\n",
    "        if path.exists(fjson_messages):\n",
    "            remove(fjson_messages)\n",
    "        json_write_list(fjson_messages, messages)\n",
    "\n",
    "        print(\"Process completed\")\n",
    "        print()\n",
    "\n",
    "    finally:\n",
    "        client.disconnect()"
   ]
  },
  {
   "cell_type": "code",
   "execution_count": null,
   "metadata": {},
   "outputs": [],
   "source": []
  },
  {
   "cell_type": "code",
   "execution_count": null,
   "metadata": {},
   "outputs": [],
   "source": []
  },
  {
   "cell_type": "code",
   "execution_count": null,
   "metadata": {},
   "outputs": [],
   "source": []
  },
  {
   "cell_type": "code",
   "execution_count": null,
   "metadata": {},
   "outputs": [],
   "source": []
  },
  {
   "cell_type": "code",
   "execution_count": null,
   "metadata": {},
   "outputs": [],
   "source": []
  },
  {
   "cell_type": "markdown",
   "metadata": {},
   "source": [
    "######################### END OF TELEGRAM SCRAPPER #########################"
   ]
  },
  {
   "cell_type": "code",
   "execution_count": null,
   "metadata": {},
   "outputs": [],
   "source": []
  }
 ],
 "metadata": {
  "kernelspec": {
   "display_name": "eag_env",
   "language": "python",
   "name": "python3"
  },
  "language_info": {
   "codemirror_mode": {
    "name": "ipython",
    "version": 3
   },
   "file_extension": ".py",
   "mimetype": "text/x-python",
   "name": "python",
   "nbconvert_exporter": "python",
   "pygments_lexer": "ipython3",
   "version": "3.11.11"
  }
 },
 "nbformat": 4,
 "nbformat_minor": 2
}
